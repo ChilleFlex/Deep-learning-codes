{
  "nbformat": 4,
  "nbformat_minor": 0,
  "metadata": {
    "colab": {
      "name": "torch.ipynb",
      "provenance": [],
      "collapsed_sections": []
    },
    "kernelspec": {
      "name": "python3",
      "display_name": "Python 3"
    },
    "language_info": {
      "name": "python"
    }
  },
  "cells": [
    {
      "cell_type": "code",
      "metadata": {
        "id": "2aIKLu4Gr5c3"
      },
      "source": [
        "import torch\n",
        "import torch.nn as nn\n",
        "import numpy as np\n",
        "import pandas as pd\n",
        "from sklearn import datasets\n",
        "from sklearn.preprocessing import StandardScaler\n",
        "from sklearn.model_selection import train_test_split\n",
        "\n"
      ],
      "execution_count": 29,
      "outputs": []
    },
    {
      "cell_type": "code",
      "metadata": {
        "id": "ZU0nipgZsZ6m"
      },
      "source": [
        "# get a dataset \n",
        "bc = datasets.load_breast_cancer()\n",
        "X, y = bc.data, bc.target\n",
        "\n",
        "n_samples, n_features = X.shape\n",
        "#print(n_samples,n_features)\n",
        "X_train, X_test, y_train, y_test = train_test_split(X, y, test_size=0.2, random_state=0)\n"
      ],
      "execution_count": 36,
      "outputs": []
    },
    {
      "cell_type": "code",
      "metadata": {
        "id": "mQ2BjpvJshr8"
      },
      "source": [
        "### scale\n",
        "sc = StandardScaler()\n",
        "X_train = sc.fit_transform(X_train)\n",
        "X_test = sc.transform(X_test)\n",
        "\n",
        "X_train = torch.from_numpy(X_train.astype(np.float32))\n",
        "X_test = torch.from_numpy(X_test.astype(np.float32))\n",
        "y_train = torch.from_numpy(y_train.astype(np.float32))\n",
        "y_test = torch.from_numpy(y_test.astype(np.float32))\n",
        "\n",
        "\n",
        "### turn into column\n",
        "y_train = y_train.view(y_train.shape[0], 1)\n",
        "y_test = y_test.view(y_test.shape[0], 1)\n",
        "\n",
        "\n"
      ],
      "execution_count": 37,
      "outputs": []
    },
    {
      "cell_type": "code",
      "metadata": {
        "id": "FNrOTj5OsmO0"
      },
      "source": [
        "#using logistic regression\n",
        "class Model(nn.Module):\n",
        "    def __init__(self, n_input_features):\n",
        "        super(Model, self).__init__()\n",
        "        self.linear = nn.Linear(n_input_features, 1)\n",
        "\n",
        "    def forward(self, x):\n",
        "        y_pred = torch.sigmoid(self.linear(x))\n",
        "        return y_pred\n",
        "\n",
        "model = Model(n_features)\n",
        "\n"
      ],
      "execution_count": 38,
      "outputs": []
    },
    {
      "cell_type": "code",
      "metadata": {
        "id": "zRpufUfvspk0"
      },
      "source": [
        "#calculating loss and using stochastic gradient descent as optimizer \n",
        "num_epochs = 100\n",
        "learning_rate = 0.01\n",
        "criterion = nn.BCELoss()\n",
        "optimizer = torch.optim.SGD(model.parameters(), lr=learning_rate)\n",
        "\n"
      ],
      "execution_count": 40,
      "outputs": []
    },
    {
      "cell_type": "code",
      "metadata": {
        "colab": {
          "base_uri": "https://localhost:8080/"
        },
        "id": "O0gIJ5J8suSU",
        "outputId": "497ee33d-f1de-4195-dadd-c7fef1f05297"
      },
      "source": [
        "# 3) Training with epoch\n",
        "for epoch in range(num_epochs):\n",
        "    # Forward propagation with calculating loss\n",
        "    y_pred = model(X_train)\n",
        "    loss = criterion(y_pred, y_train)\n",
        "\n",
        "    # backward propagation and updating weights\n",
        "    loss.backward()\n",
        "    optimizer.step()\n",
        "\n",
        "    # using zero grad \n",
        "    optimizer.zero_grad()\n",
        "\n",
        "    #printing epoch and loss\n",
        "    ep=epoch+1\n",
        "    Loss=loss.item()\n",
        "    print('epoch: ',ep,'loss = ',Loss)\n",
        "\n"
      ],
      "execution_count": 44,
      "outputs": [
        {
          "output_type": "stream",
          "name": "stdout",
          "text": [
            "epoch:  1 loss =  0.18642418086528778\n",
            "epoch:  2 loss =  0.18602760136127472\n",
            "epoch:  3 loss =  0.18563412129878998\n",
            "epoch:  4 loss =  0.18524371087551117\n",
            "epoch:  5 loss =  0.1848563253879547\n",
            "epoch:  6 loss =  0.18447192013263702\n",
            "epoch:  7 loss =  0.1840904802083969\n",
            "epoch:  8 loss =  0.1837119609117508\n",
            "epoch:  9 loss =  0.1833363026380539\n",
            "epoch:  10 loss =  0.18296349048614502\n",
            "epoch:  11 loss =  0.18259350955486298\n",
            "epoch:  12 loss =  0.182226300239563\n",
            "epoch:  13 loss =  0.1818617880344391\n",
            "epoch:  14 loss =  0.18150004744529724\n",
            "epoch:  15 loss =  0.1811409592628479\n",
            "epoch:  16 loss =  0.18078452348709106\n",
            "epoch:  17 loss =  0.18043068051338196\n",
            "epoch:  18 loss =  0.18007944524288177\n",
            "epoch:  19 loss =  0.17973074316978455\n",
            "epoch:  20 loss =  0.17938460409641266\n",
            "epoch:  21 loss =  0.17904092371463776\n",
            "epoch:  22 loss =  0.17869971692562103\n",
            "epoch:  23 loss =  0.1783609390258789\n",
            "epoch:  24 loss =  0.17802457511425018\n",
            "epoch:  25 loss =  0.17769058048725128\n",
            "epoch:  26 loss =  0.1773589700460434\n",
            "epoch:  27 loss =  0.17702968418598175\n",
            "epoch:  28 loss =  0.17670269310474396\n",
            "epoch:  29 loss =  0.17637798190116882\n",
            "epoch:  30 loss =  0.17605550587177277\n",
            "epoch:  31 loss =  0.17573529481887817\n",
            "epoch:  32 loss =  0.1754172295331955\n",
            "epoch:  33 loss =  0.1751013994216919\n",
            "epoch:  34 loss =  0.17478767037391663\n",
            "epoch:  35 loss =  0.17447611689567566\n",
            "epoch:  36 loss =  0.17416663467884064\n",
            "epoch:  37 loss =  0.17385925352573395\n",
            "epoch:  38 loss =  0.17355391383171082\n",
            "epoch:  39 loss =  0.17325064539909363\n",
            "epoch:  40 loss =  0.17294937372207642\n",
            "epoch:  41 loss =  0.17265009880065918\n",
            "epoch:  42 loss =  0.17235280573368073\n",
            "epoch:  43 loss =  0.17205743491649628\n",
            "epoch:  44 loss =  0.17176403105258942\n",
            "epoch:  45 loss =  0.17147254943847656\n",
            "epoch:  46 loss =  0.17118294537067413\n",
            "epoch:  47 loss =  0.17089520394802094\n",
            "epoch:  48 loss =  0.17060932517051697\n",
            "epoch:  49 loss =  0.17032526433467865\n",
            "epoch:  50 loss =  0.17004303634166718\n",
            "epoch:  51 loss =  0.16976261138916016\n",
            "epoch:  52 loss =  0.169483944773674\n",
            "epoch:  53 loss =  0.16920706629753113\n",
            "epoch:  54 loss =  0.16893190145492554\n",
            "epoch:  55 loss =  0.16865848004817963\n",
            "epoch:  56 loss =  0.16838675737380981\n",
            "epoch:  57 loss =  0.1681167483329773\n",
            "epoch:  58 loss =  0.1678483784198761\n",
            "epoch:  59 loss =  0.16758166253566742\n",
            "epoch:  60 loss =  0.16731661558151245\n",
            "epoch:  61 loss =  0.1670531928539276\n",
            "epoch:  62 loss =  0.16679136455059052\n",
            "epoch:  63 loss =  0.16653113067150116\n",
            "epoch:  64 loss =  0.16627247631549835\n",
            "epoch:  65 loss =  0.1660153716802597\n",
            "epoch:  66 loss =  0.1657598465681076\n",
            "epoch:  67 loss =  0.1655058115720749\n",
            "epoch:  68 loss =  0.16525332629680634\n",
            "epoch:  69 loss =  0.16500233113765717\n",
            "epoch:  70 loss =  0.164752796292305\n",
            "epoch:  71 loss =  0.1645047962665558\n",
            "epoch:  72 loss =  0.16425821185112\n",
            "epoch:  73 loss =  0.1640130877494812\n",
            "epoch:  74 loss =  0.16376937925815582\n",
            "epoch:  75 loss =  0.16352710127830505\n",
            "epoch:  76 loss =  0.1632862538099289\n",
            "epoch:  77 loss =  0.16304674744606018\n",
            "epoch:  78 loss =  0.1628086417913437\n",
            "epoch:  79 loss =  0.16257193684577942\n",
            "epoch:  80 loss =  0.162336528301239\n",
            "epoch:  81 loss =  0.16210250556468964\n",
            "epoch:  82 loss =  0.16186979413032532\n",
            "epoch:  83 loss =  0.16163840889930725\n",
            "epoch:  84 loss =  0.16140832006931305\n",
            "epoch:  85 loss =  0.1611795276403427\n",
            "epoch:  86 loss =  0.16095201671123505\n",
            "epoch:  87 loss =  0.16072578728199005\n",
            "epoch:  88 loss =  0.16050079464912415\n",
            "epoch:  89 loss =  0.16027706861495972\n",
            "epoch:  90 loss =  0.16005456447601318\n",
            "epoch:  91 loss =  0.15983329713344574\n",
            "epoch:  92 loss =  0.159613236784935\n",
            "epoch:  93 loss =  0.15939438343048096\n",
            "epoch:  94 loss =  0.15917673707008362\n",
            "epoch:  95 loss =  0.158960223197937\n",
            "epoch:  96 loss =  0.1587449461221695\n",
            "epoch:  97 loss =  0.1585308015346527\n",
            "epoch:  98 loss =  0.15831780433654785\n",
            "epoch:  99 loss =  0.1581059694290161\n",
            "epoch:  100 loss =  0.15789523720741272\n"
          ]
        }
      ]
    },
    {
      "cell_type": "code",
      "metadata": {
        "colab": {
          "base_uri": "https://localhost:8080/"
        },
        "id": "RpoVI-ansx_M",
        "outputId": "af009c1a-6b7d-4a5b-8028-1a455c68463d"
      },
      "source": [
        "\n",
        "with torch.no_grad():\n",
        "    y_predicted = model(X_test)\n",
        "    y_predicted_cls = y_predicted.round()\n",
        "    acc = y_predicted_cls.eq(y_test).sum() / float(y_test.shape[0])\n",
        "    print('accuracy: ',acc.item())"
      ],
      "execution_count": 45,
      "outputs": [
        {
          "output_type": "stream",
          "name": "stdout",
          "text": [
            "accuracy:  0.9561403393745422\n"
          ]
        }
      ]
    }
  ]
}