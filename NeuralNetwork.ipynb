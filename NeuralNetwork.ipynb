{
  "nbformat": 4,
  "nbformat_minor": 0,
  "metadata": {
    "colab": {
      "name": "NeuralNetwork.ipynb",
      "provenance": []
    },
    "kernelspec": {
      "name": "python3",
      "display_name": "Python 3"
    },
    "language_info": {
      "name": "python"
    }
  },
  "cells": [
    {
      "cell_type": "code",
      "metadata": {
        "id": "Ip3VW-YpY3Ua"
      },
      "source": [
        "import torch"
      ],
      "execution_count": null,
      "outputs": []
    },
    {
      "cell_type": "code",
      "metadata": {
        "id": "vqXGHvo3Y35p"
      },
      "source": [
        "X = torch.tensor([1, 2, 3, 4, 5, 6, 7, 8], dtype=torch.float32)\n",
        "Y = torch.tensor ([5, 10, 15, 20, 25, 30, 35, 40], dtype=torch.float32)\n",
        "\n",
        "w = torch.tensor(0.0, dtype=torch.float32, requires_grad=True)"
      ],
      "execution_count": null,
      "outputs": []
    },
    {
      "cell_type": "code",
      "metadata": {
        "id": "DrNAgX_vZEJZ"
      },
      "source": [
        "# forward propagation\n",
        "def forward(x):\n",
        "    return w * x"
      ],
      "execution_count": null,
      "outputs": []
    },
    {
      "cell_type": "code",
      "metadata": {
        "id": "KwvXU-fAZG2S"
      },
      "source": [
        "# loss\n",
        "def loss(y, y_pred):\n",
        "    return ((y_pred - y)**2).mean()\n",
        "before = forward(9).item()\n",
        "print('Before training: ',before)"
      ],
      "execution_count": null,
      "outputs": []
    },
    {
      "cell_type": "code",
      "metadata": {
        "id": "kistzefOZKUL"
      },
      "source": [
        "# Training\n",
        "learning_rate = 0.01\n",
        "n_iters = 23"
      ],
      "execution_count": null,
      "outputs": []
    },
    {
      "cell_type": "code",
      "metadata": {
        "id": "kD7IHWKjZMGH"
      },
      "source": [
        "for epoch in range(n_iters):\n",
        "    \n",
        "    y_pred = forward(X) # calculating y_pred \n",
        "    l = loss(Y, y_pred) # calculating loss\n",
        "    l.backward() #calculating gradients and backward pass\n",
        "\n",
        "    # update weights\n",
        "    with torch.no_grad():\n",
        "        w -= learning_rate * w.grad\n",
        "    \n",
        "    # zero the gradients after updating\n",
        "    w.grad.zero_()\n",
        "    ep=epoch+1\n",
        "    weight=w.item()\n",
        "    LossValue=l.item()\n",
        "    print('epoch: ',ep,'weight: ',weight,'loss: ',LossValue)\n"
      ],
      "execution_count": null,
      "outputs": []
    },
    {
      "cell_type": "code",
      "metadata": {
        "id": "bCEJEuqPZMNs"
      },
      "source": [
        "after = forward(9).item()\n",
        "print('After training: ',after)"
      ],
      "execution_count": null,
      "outputs": []
    }
  ]
}