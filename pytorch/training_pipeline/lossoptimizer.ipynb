{
 "cells": [
  {
   "cell_type": "code",
   "execution_count": 12,
   "metadata": {},
   "outputs": [],
   "source": [
    "import torch\n",
    "import torch.nn as nn"
   ]
  },
  {
   "cell_type": "code",
   "execution_count": 13,
   "metadata": {},
   "outputs": [],
   "source": [
    "# input\n",
    "X = torch.tensor([1,3,5,7], dtype=torch.float32)\n",
    "# actual output\n",
    "Y = torch.tensor([2,6,10,14], dtype=torch.float32)\n",
    "# weight\n",
    "w = torch.tensor(0, dtype=torch.float32, requires_grad=True)"
   ]
  },
  {
   "cell_type": "code",
   "execution_count": 14,
   "metadata": {},
   "outputs": [],
   "source": [
    "def forward(x):\n",
    "    return w*x"
   ]
  },
  {
   "cell_type": "code",
   "execution_count": 15,
   "metadata": {},
   "outputs": [
    {
     "name": "stdout",
     "output_type": "stream",
     "text": [
      "epoch 2: loss - 83.92945 and weight = 0.00252\n",
      "epoch 4: loss - 83.57732 and weight = 0.00839\n",
      "epoch 6: loss - 82.94595 and weight = 0.01762\n",
      "epoch 8: loss - 82.03962 and weight = 0.03017\n",
      "epoch 10: loss - 80.86439 and weight = 0.04603\n",
      "epoch 12: loss - 79.42815 and weight = 0.06517\n",
      "epoch 14: loss - 77.74055 and weight = 0.08756\n",
      "epoch 16: loss - 75.81295 and weight = 0.11316\n",
      "epoch 18: loss - 73.65825 and weight = 0.14194\n",
      "epoch 20: loss - 71.29097 and weight = 0.17383\n",
      "epoch 22: loss - 68.72697 and weight = 0.20880\n",
      "epoch 24: loss - 65.98351 and weight = 0.24677\n",
      "epoch 26: loss - 63.07898 and weight = 0.28769\n",
      "epoch 28: loss - 60.03291 and weight = 0.33148\n",
      "epoch 30: loss - 56.86574 and weight = 0.37808\n",
      "epoch 32: loss - 53.59876 and weight = 0.42740\n",
      "epoch 34: loss - 50.25391 and weight = 0.47936\n",
      "epoch 36: loss - 46.85365 and weight = 0.53388\n",
      "epoch 38: loss - 43.42082 and weight = 0.59086\n",
      "epoch 40: loss - 39.97849 and weight = 0.65020\n",
      "epoch 42: loss - 36.54974 and weight = 0.71182\n",
      "epoch 44: loss - 33.15764 and weight = 0.77560\n",
      "epoch 46: loss - 29.82497 and weight = 0.84143\n",
      "epoch 48: loss - 26.57409 and weight = 0.90921\n",
      "epoch 50: loss - 23.42685 and weight = 0.97883\n",
      "output 9.788259506225586\n"
     ]
    }
   ],
   "source": [
    "loss = nn.MSELoss()\n",
    "learning_rate = 0.00001\n",
    "n_iters = 50\n",
    "optimizer = torch.optim.SGD([w], lr = learning_rate)\n",
    "for epoch in range(n_iters):\n",
    "    y_pred = forward(X)\n",
    "    l = loss(Y, y_pred)\n",
    "    l.backward()\n",
    "    optimizer.step()\n",
    "    optimizer.zero_grad\n",
    "    if (epoch+1)%2==0:\n",
    "        print(f\"epoch {epoch+1}: loss - {l:.5f} and weight = {w:.5f}\")\n",
    "    \n",
    "print(f\"output {forward(10)}\")\n",
    "    "
   ]
  },
  {
   "cell_type": "code",
   "execution_count": null,
   "metadata": {},
   "outputs": [],
   "source": [
    "\n"
   ]
  }
 ],
 "metadata": {
  "kernelspec": {
   "display_name": "base",
   "language": "python",
   "name": "python3"
  },
  "language_info": {
   "codemirror_mode": {
    "name": "ipython",
    "version": 3
   },
   "file_extension": ".py",
   "mimetype": "text/x-python",
   "name": "python",
   "nbconvert_exporter": "python",
   "pygments_lexer": "ipython3",
   "version": "3.9.12"
  },
  "orig_nbformat": 4
 },
 "nbformat": 4,
 "nbformat_minor": 2
}
