{
 "cells": [
  {
   "cell_type": "code",
   "execution_count": 2,
   "metadata": {},
   "outputs": [
    {
     "name": "stdout",
     "output_type": "stream",
     "text": [
      "tensor([[1.],\n",
      "        [2.],\n",
      "        [3.],\n",
      "        [4.],\n",
      "        [5.]]) torch.Size([5, 1]) torch.Size([5, 1]) torch.Size([1])\n"
     ]
    }
   ],
   "source": [
    "import torch\n",
    "import torch.nn as nn\n",
    "\n",
    "X = torch.tensor([[1],[2],[3],[4],[5]], dtype=torch.float32)\n",
    "Y = torch.tensor([[3],[6],[9],[12],[15]], dtype=torch.float32)\n",
    "x_test = torch.tensor([5], dtype = torch.float32)\n",
    "print(X, X.shape, Y.shape, x_test.shape)"
   ]
  },
  {
   "cell_type": "code",
   "execution_count": 73,
   "metadata": {},
   "outputs": [],
   "source": [
    "learning_rate = 0.08\n",
    "n_iters = 300\n",
    "# model = nn.Linear(input_size, output_size)\n",
    "loss = nn.MSELoss()"
   ]
  },
  {
   "cell_type": "code",
   "execution_count": 59,
   "metadata": {},
   "outputs": [],
   "source": [
    "n_sample, n_feature = X.shape\n",
    "input_size = output_size = n_feature\n",
    "class LinearRegression(nn.Module):\n",
    "    def __init__(self, input_dim, output_dim):\n",
    "        super(LinearRegression, self).__init__()\n",
    "        self.Linear = nn.Linear(input_dim, output_dim)  # input dim should be equal to the number of features(col) of the input Tensor\n",
    "    def forward(self, x):      # the \"forward\" function be overwritte by any class that inherits  nn.Module\n",
    "        return self.Linear(x) "
   ]
  },
  {
   "cell_type": "code",
   "execution_count": 74,
   "metadata": {},
   "outputs": [],
   "source": [
    "Layer1 = LinearRegression(input_size, output_size)\n",
    "optimizer = torch.optim.SGD(Layer1.parameters(), lr = learning_rate)"
   ]
  },
  {
   "cell_type": "code",
   "execution_count": 88,
   "metadata": {},
   "outputs": [
    {
     "name": "stdout",
     "output_type": "stream",
     "text": [
      "epoch 30: loss = 0.00000 and weight =  3.00000\n",
      "3.000000238418579\n",
      "epoch 60: loss = 0.00000 and weight =  3.00000\n",
      "3.000000238418579\n",
      "epoch 90: loss = 0.00000 and weight =  3.00000\n",
      "3.000000238418579\n",
      "epoch 120: loss = 0.00000 and weight =  3.00000\n",
      "3.000000238418579\n",
      "epoch 150: loss = 0.00000 and weight =  3.00000\n",
      "3.000000238418579\n",
      "epoch 180: loss = 0.00000 and weight =  3.00000\n",
      "3.000000238418579\n",
      "epoch 210: loss = 0.00000 and weight =  3.00000\n",
      "3.000000238418579\n",
      "epoch 240: loss = 0.00000 and weight =  3.00000\n",
      "3.000000238418579\n",
      "epoch 270: loss = 0.00000 and weight =  3.00000\n",
      "3.000000238418579\n",
      "epoch 300: loss = 0.00000 and weight =  3.00000\n",
      "3.000000238418579\n",
      "output :15.000\n"
     ]
    }
   ],
   "source": [
    "for epoch in range(n_iters):\n",
    "    y_pred = Layer1(X) # X has 1 feature(column) and also Layer1 class inits with input_dim == 1(X.shape[1])\n",
    "    # print(y_pred)\n",
    "    l = loss(Y, y_pred) # loss calculation\n",
    "    l.backward() # backward pass\n",
    "    optimizer.step() # optimizing weights\n",
    "    optimizer.zero_grad() # prevents the weights being accummulated\n",
    "    if (epoch+1)%30 == 0:\n",
    "        [w, b] = Layer1.parameters()\n",
    "        print(f\"epoch {epoch+1}: loss = {l:.5f} and weight = {w[0][0].item(): .5f}\")\n",
    "        # print(list(Layer1.parameters())[0])\n",
    "print(f\"output :{Layer1(x_test).item():.3f}\")"
   ]
  },
  {
   "cell_type": "code",
   "execution_count": null,
   "metadata": {},
   "outputs": [],
   "source": []
  }
 ],
 "metadata": {
  "kernelspec": {
   "display_name": "base",
   "language": "python",
   "name": "python3"
  },
  "language_info": {
   "codemirror_mode": {
    "name": "ipython",
    "version": 3
   },
   "file_extension": ".py",
   "mimetype": "text/x-python",
   "name": "python",
   "nbconvert_exporter": "python",
   "pygments_lexer": "ipython3",
   "version": "3.9.12"
  },
  "orig_nbformat": 4
 },
 "nbformat": 4,
 "nbformat_minor": 2
}
