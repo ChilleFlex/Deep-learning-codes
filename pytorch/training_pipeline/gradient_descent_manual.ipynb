{
 "cells": [
  {
   "cell_type": "code",
   "execution_count": 1,
   "metadata": {},
   "outputs": [],
   "source": [
    "import torch\n",
    "import numpy as np"
   ]
  },
  {
   "cell_type": "code",
   "execution_count": 27,
   "metadata": {},
   "outputs": [],
   "source": [
    "# input\n",
    "x = np.array([1,3,5,7], dtype=np.float32)\n",
    "# actual output\n",
    "y = np.array([2,6,10,14], dtype=np.float32)\n",
    "# initial weight\n",
    "w = 0.0"
   ]
  },
  {
   "cell_type": "code",
   "execution_count": 28,
   "metadata": {},
   "outputs": [],
   "source": [
    "# formula: y_pred = w*x, y = 2*x\n",
    "# loss_func = MSE = 1/N*((y_pred-y)**2)\n",
    "# gradient = d(loss_func)/dw = d(1/N*((w*x-y)**2))/dw = 1/N*2(w*x-y)*x = 1/N*2*x*(y_pred-y)\n",
    "\n",
    "# forward pass(model prediction)\n",
    "def forward(x):\n",
    "    return w*x\n",
    "# loss calculation\n",
    "def loss(y_pred, y):\n",
    "    return ((y_pred-y)**2).mean()\n",
    "# gradient \n",
    "def gredient(x, y, y_pred):\n",
    "    return np.dot(2*x, (y_pred-y)).mean()"
   ]
  },
  {
   "cell_type": "code",
   "execution_count": 29,
   "metadata": {},
   "outputs": [
    {
     "name": "stdout",
     "output_type": "stream",
     "text": [
      "y_pred before training: 0.000\n"
     ]
    }
   ],
   "source": [
    "# prediction before training\n",
    "print(f\"y_pred before training: {forward(5):.3f}\")"
   ]
  },
  {
   "cell_type": "code",
   "execution_count": 35,
   "metadata": {},
   "outputs": [
    {
     "name": "stdout",
     "output_type": "stream",
     "text": [
      "epoch 1: w=187085.76691140013, loss=1589547368448.00000\n",
      "epoch 2: w=-127214.97308859986, loss=735007080448.00000\n",
      "epoch 3: w=86509.54691140016, loss=339867336704.00000\n",
      "epoch 4: w=-58823.12308859985, loss=157154672640.00000\n",
      "epoch 5: w=40003.076911400145, loss=72668299264.00000\n",
      "epoch 6: w=-27198.738088599857, loss=33601812480.00000\n",
      "epoch 7: w=18498.506911400145, loss=15537483776.00000\n",
      "epoch 8: w=-12575.623088599856, loss=7184536576.00000\n",
      "epoch 9: w=8554.784411400145, loss=3322128384.00000\n",
      "epoch 10: w=-5813.891838599855, loss=1536152448.00000\n",
      "y_pred after training: -29069.459\n"
     ]
    }
   ],
   "source": [
    "lr = 0.01\n",
    "n_iters = 10\n",
    "for epoch in range(n_iters):\n",
    "    y_pred = forward(x)\n",
    "    l = loss(y_pred, y)\n",
    "    dw = gredient(x, y, y_pred)\n",
    "    w -= lr*dw\n",
    "    print(f\"epoch {epoch+1}: w={w}, loss={l:.5f}\")\n",
    "print(f\"y_pred after training: {forward(5):.3f}\")"
   ]
  }
 ],
 "metadata": {
  "kernelspec": {
   "display_name": "base",
   "language": "python",
   "name": "python3"
  },
  "language_info": {
   "codemirror_mode": {
    "name": "ipython",
    "version": 3
   },
   "file_extension": ".py",
   "mimetype": "text/x-python",
   "name": "python",
   "nbconvert_exporter": "python",
   "pygments_lexer": "ipython3",
   "version": "3.9.12"
  },
  "orig_nbformat": 4
 },
 "nbformat": 4,
 "nbformat_minor": 2
}
