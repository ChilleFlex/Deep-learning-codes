{
 "cells": [
  {
   "cell_type": "code",
   "execution_count": 5,
   "metadata": {},
   "outputs": [],
   "source": [
    "import torch\n",
    "\n",
    "# input\n",
    "x = torch.tensor([1,3,5,7], dtype=torch.float32)\n",
    "# actual output\n",
    "y = torch.tensor([2,6,10,14], dtype=torch.float32)\n",
    "# initial weight\n",
    "w = torch.tensor(0, dtype=torch.float32, requires_grad=True)"
   ]
  },
  {
   "cell_type": "code",
   "execution_count": 6,
   "metadata": {},
   "outputs": [],
   "source": [
    "# forward pass(model prediction)\n",
    "def forward(x):\n",
    "    return w*x\n",
    "# loss calculation\n",
    "def loss(y_pred, y):\n",
    "    return ((y_pred-y)**2).mean()\n",
    "# gradient will be calculated with torch"
   ]
  },
  {
   "cell_type": "code",
   "execution_count": 7,
   "metadata": {},
   "outputs": [
    {
     "name": "stdout",
     "output_type": "stream",
     "text": [
      "y_pred before training: 0.000\n"
     ]
    }
   ],
   "source": [
    "# prediction before training\n",
    "print(f\"y_pred before training: {forward(5):.3f}\")"
   ]
  },
  {
   "cell_type": "code",
   "execution_count": 9,
   "metadata": {},
   "outputs": [
    {
     "name": "stdout",
     "output_type": "stream",
     "text": [
      "epoch 1: w=1.9950026273727417, loss=0.00156\n",
      "epoch 2: w=1.9971015453338623, loss=0.00052\n",
      "epoch 3: w=1.9983189105987549, loss=0.00018\n",
      "epoch 4: w=1.9990249872207642, loss=0.00006\n",
      "epoch 5: w=1.999434471130371, loss=0.00002\n",
      "epoch 6: w=1.9996719360351562, loss=0.00001\n",
      "epoch 7: w=1.999809741973877, loss=0.00000\n",
      "epoch 8: w=1.999889612197876, loss=0.00000\n",
      "epoch 9: w=1.9999359846115112, loss=0.00000\n",
      "epoch 10: w=1.9999629259109497, loss=0.00000\n",
      "epoch 11: w=1.9999784231185913, loss=0.00000\n",
      "epoch 12: w=1.9999874830245972, loss=0.00000\n",
      "y_pred after training: 10.000\n"
     ]
    }
   ],
   "source": [
    "lr = 0.01\n",
    "n_iters = 12\n",
    "for epoch in range(n_iters):\n",
    "    y_pred = forward(x)\n",
    "    l = loss(y_pred, y)\n",
    "    l.backward()\n",
    "    with torch.no_grad():\n",
    "        w -= lr*w.grad\n",
    "    # zero gradient\n",
    "    w.grad.zero_()\n",
    "    print(f\"epoch {epoch+1}: w={w}, loss={l:.5f}\")\n",
    "print(f\"y_pred after training: {forward(5):.3f}\")"
   ]
  }
 ],
 "metadata": {
  "kernelspec": {
   "display_name": "base",
   "language": "python",
   "name": "python3"
  },
  "language_info": {
   "codemirror_mode": {
    "name": "ipython",
    "version": 3
   },
   "file_extension": ".py",
   "mimetype": "text/x-python",
   "name": "python",
   "nbconvert_exporter": "python",
   "pygments_lexer": "ipython3",
   "version": "3.9.12"
  },
  "orig_nbformat": 4
 },
 "nbformat": 4,
 "nbformat_minor": 2
}
