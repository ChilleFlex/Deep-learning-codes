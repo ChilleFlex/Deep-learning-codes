{
 "cells": [
  {
   "cell_type": "code",
   "execution_count": 2,
   "metadata": {},
   "outputs": [],
   "source": [
    "import torch\n",
    "import torch.nn as nn\n",
    "import numpy as np\n",
    "from sklearn import datasets"
   ]
  },
  {
   "cell_type": "code",
   "execution_count": 21,
   "metadata": {},
   "outputs": [
    {
     "data": {
      "text/plain": [
       "torch.Size([500, 1])"
      ]
     },
     "execution_count": 21,
     "metadata": {},
     "output_type": "execute_result"
    }
   ],
   "source": [
    "x_numpy, y_numpy = datasets.make_regression(n_samples=500, n_features=1, noise=20, random_state=42)\n",
    "x_torch = torch.from_numpy(x_numpy.astype(np.float32))\n",
    "y_torch = torch.from_numpy(y_numpy.astype(np.float32))\n",
    "y_torch = y_torch.view(y_torch.shape[0], 1)\n",
    "y_torch.shape"
   ]
  },
  {
   "cell_type": "code",
   "execution_count": 32,
   "metadata": {},
   "outputs": [],
   "source": [
    "input_size = x_torch.shape[1]  # it should be number of featurs not the samples\n",
    "output_size = 1\n",
    "model = nn.Linear(input_size, output_size)\n",
    "learning_rate = 0.07\n",
    "criterion = nn.MSELoss()\n",
    "optimizer = torch.optim.SGD(model.parameters(), lr = learning_rate)"
   ]
  },
  {
   "cell_type": "code",
   "execution_count": 33,
   "metadata": {},
   "outputs": [
    {
     "name": "stdout",
     "output_type": "stream",
     "text": [
      "epoch 1: loss = 4146.62402 and weight = 9.397174835205078\n",
      "epoch 21: loss = 406.31723 and weight = 60.459251403808594\n",
      "epoch 41: loss = 394.73038 and weight = 63.2997932434082\n",
      "epoch 61: loss = 394.69443 and weight = 63.45787048339844\n",
      "epoch 81: loss = 394.69431 and weight = 63.466670989990234\n",
      "epoch 101: loss = 394.69431 and weight = 63.467159271240234\n",
      "epoch 121: loss = 394.69431 and weight = 63.46717834472656\n",
      "epoch 141: loss = 394.69434 and weight = 63.46717834472656\n",
      "epoch 161: loss = 394.69434 and weight = 63.46717834472656\n",
      "epoch 181: loss = 394.69434 and weight = 63.46717834472656\n",
      "epoch 201: loss = 394.69434 and weight = 63.46717834472656\n",
      "epoch 221: loss = 394.69434 and weight = 63.46717834472656\n",
      "epoch 241: loss = 394.69434 and weight = 63.46717834472656\n",
      "epoch 261: loss = 394.69434 and weight = 63.46717834472656\n",
      "epoch 281: loss = 394.69434 and weight = 63.46717834472656\n"
     ]
    }
   ],
   "source": [
    "# training loop\n",
    "n_epochs = 300\n",
    "for epoch in range(n_epochs):\n",
    "    # forward pass\n",
    "    y_pred = model(x_torch)\n",
    "    loss = criterion(y_pred, y_torch)\n",
    "    # backward pass\n",
    "    loss.backward()\n",
    "    # weight update\n",
    "    optimizer.step()\n",
    "    optimizer.zero_grad()\n",
    "    \n",
    "    if epoch % 20 == 0:\n",
    "        [w,b] = model.parameters()\n",
    "        print(f\"epoch {epoch+1}: loss = {loss:.5f} and weight = {w[0][0].item()}\")\n"
   ]
  },
  {
   "cell_type": "code",
   "execution_count": 34,
   "metadata": {},
   "outputs": [
    {
     "data": {
      "image/png": "[encoded data removed]",
      "text/plain": [
       "<Figure size 432x288 with 1 Axes>"
      ]
     },
     "metadata": {
      "needs_background": "light"
     },
     "output_type": "display_data"
    }
   ],
   "source": [
    "import matplotlib.pyplot as plt\n",
    "predicted = model(x_torch).detach().numpy()\n",
    "plt.plot(x_torch, y_torch , \"ro\")\n",
    "plt.plot(x_torch, predicted, \"b\")\n",
    "plt.show()"
   ]
  },
  {
   "cell_type": "code",
   "execution_count": 35,
   "metadata": {},
   "outputs": [
    {
     "name": "stdout",
     "output_type": "stream",
     "text": [
      "(2, 3) <class 'tuple'>\n"
     ]
    }
   ],
   "source": [
    "x = 2,3\n",
    "print(x, type(x))"
   ]
  }
 ],
 "metadata": {
  "kernelspec": {
   "display_name": "base",
   "language": "python",
   "name": "python3"
  },
  "language_info": {
   "codemirror_mode": {
    "name": "ipython",
    "version": 3
   },
   "file_extension": ".py",
   "mimetype": "text/x-python",
   "name": "python",
   "nbconvert_exporter": "python",
   "pygments_lexer": "ipython3",
   "version": "3.9.12"
  },
  "orig_nbformat": 4
 },
 "nbformat": 4,
 "nbformat_minor": 2
}
